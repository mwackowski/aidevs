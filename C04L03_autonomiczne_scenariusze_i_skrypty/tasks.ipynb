{
 "cells": [
  {
   "cell_type": "code",
   "execution_count": 16,
   "metadata": {},
   "outputs": [],
   "source": [
    "import sys\n",
    "import json\n",
    "\n",
    "sys.path.append(\"..\")\n",
    "\n",
    "import requests\n",
    "\n",
    "from common.aidevs_authorize import get_task, get_token, send_answer\n",
    "from common.openai_requests import send_chat_completion, make_request\n",
    "from common.utils import get_message, print_task"
   ]
  },
  {
   "cell_type": "code",
   "execution_count": 37,
   "metadata": {},
   "outputs": [
    {
     "name": "stdout",
     "output_type": "stream",
     "text": [
      "code\n",
      "0\n",
      "****************************************************************************************************\n",
      "msg\n",
      "I will give you a drawing of a gnome with a hat on his head. Tell me what is the color of the hat in\n",
      "POLISH. If any errors occur, return \"ERROR\" as answer\n",
      "****************************************************************************************************\n",
      "hint\n",
      "it won't always be a drawing of a gnome >:)\n",
      "****************************************************************************************************\n",
      "url\n",
      "https://zadania.aidevs.pl/gnome/93f924e164f718252527cf3c2c50fa23.png\n",
      "****************************************************************************************************\n"
     ]
    }
   ],
   "source": [
    "token = get_token(\"gnome\")\n",
    "task = get_task(token)\n",
    "print_task(task, 100)"
   ]
  },
  {
   "cell_type": "code",
   "execution_count": 25,
   "metadata": {},
   "outputs": [
    {
     "data": {
      "text/plain": [
       "'https://zadania.aidevs.pl/gnome/ff231628d901d05570ebebe8fff5193f.png'"
      ]
     },
     "execution_count": 25,
     "metadata": {},
     "output_type": "execute_result"
    }
   ],
   "source": [
    "task['url']"
   ]
  },
  {
   "cell_type": "code",
   "execution_count": 38,
   "metadata": {},
   "outputs": [],
   "source": [
    "def send_vision_request(user_input, image_url, max_tokens=300, model=\"gpt-4-vision-preview\"):\n",
    "    return make_request(\n",
    "      endpoint=\"chat/completions\",\n",
    "      data={\n",
    "        \"model\": model,\n",
    "        \"messages\": [\n",
    "          {\n",
    "            \"role\": \"user\",\n",
    "            \"content\": [\n",
    "              {\n",
    "                \"type\": \"text\",\n",
    "                \"text\": user_input\n",
    "              },\n",
    "              {\n",
    "                \"type\": \"image_url\",\n",
    "                \"image_url\": {\n",
    "                  \"url\": image_url\n",
    "                }\n",
    "              }\n",
    "            ]\n",
    "          }\n",
    "        ],\n",
    "        \"max_tokens\": max_tokens\n",
    "      }\n",
    "    )"
   ]
  },
  {
   "cell_type": "code",
   "execution_count": 39,
   "metadata": {},
   "outputs": [],
   "source": [
    "ai_resp = send_vision_request(\"jesli na obrazku jest karzel, podaj kolor jego czapki. Badz bardzo precyzyjny i zwroc wylacznie kolor, nic wiecej. Jesli na obrazku nie ma karla, zwroc: ERROR\", task['url'])\n",
    "ai_resp = get_message(ai_resp)"
   ]
  },
  {
   "cell_type": "code",
   "execution_count": 40,
   "metadata": {},
   "outputs": [
    {
     "data": {
      "text/plain": [
       "'niebieski'"
      ]
     },
     "execution_count": 40,
     "metadata": {},
     "output_type": "execute_result"
    }
   ],
   "source": [
    "ai_resp"
   ]
  },
  {
   "cell_type": "code",
   "execution_count": 41,
   "metadata": {},
   "outputs": [
    {
     "data": {
      "text/plain": [
       "'{\\n    \"code\": 0,\\n    \"msg\": \"OK\",\\n    \"note\": \"CORRECT\"\\n}'"
      ]
     },
     "execution_count": 41,
     "metadata": {},
     "output_type": "execute_result"
    }
   ],
   "source": [
    "send_answer(token, ai_resp)"
   ]
  }
 ],
 "metadata": {
  "interpreter": {
   "hash": "b89b5cfaba6639976dc87ff2fec6d58faec662063367e2c229c520fe71072417"
  },
  "kernelspec": {
   "display_name": "Python 3.10.5 64-bit",
   "name": "python3"
  },
  "language_info": {
   "codemirror_mode": {
    "name": "ipython",
    "version": 3
   },
   "file_extension": ".py",
   "mimetype": "text/x-python",
   "name": "python",
   "nbconvert_exporter": "python",
   "pygments_lexer": "ipython3",
   "version": "3.10.6"
  },
  "orig_nbformat": 4
 },
 "nbformat": 4,
 "nbformat_minor": 2
}
