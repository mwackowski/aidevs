{
 "cells": [
  {
   "cell_type": "code",
   "execution_count": 1,
   "metadata": {},
   "outputs": [],
   "source": [
    "import sys\n",
    "import json\n",
    "\n",
    "sys.path.append(\"..\")\n",
    "\n",
    "import requests\n",
    "\n",
    "from common.aidevs_authorize import get_task, get_token, send_answer\n",
    "from common.openai_requests import send_chat_completion, make_request\n",
    "from common.utils import get_message, print_task"
   ]
  },
  {
   "cell_type": "code",
   "execution_count": 2,
   "metadata": {},
   "outputs": [
    {
     "name": "stdout",
     "output_type": "stream",
     "text": [
      "code\n",
      "0\n",
      "****************************************************************************************************\n",
      "msg\n",
      "Provide me the URL to your API (HTTPS) via /answer/ endpoint. I will ask your API a general\n",
      "knowledge question\n",
      "****************************************************************************************************\n",
      "hint1\n",
      "I will sent data as JSON, and my question would be inside \"question\" field\n",
      "****************************************************************************************************\n",
      "hint2\n",
      "Probably I will ask more than one question, so be prepared for that\n",
      "****************************************************************************************************\n",
      "hint3\n",
      "Please return the answer in JSON format, with \"reply\" field!\n",
      "****************************************************************************************************\n"
     ]
    }
   ],
   "source": [
    "token = get_token(\"ownapi\")\n",
    "task = get_task(token)\n",
    "print_task(task, 100)"
   ]
  }
 ],
 "metadata": {
  "interpreter": {
   "hash": "b89b5cfaba6639976dc87ff2fec6d58faec662063367e2c229c520fe71072417"
  },
  "kernelspec": {
   "display_name": "Python 3.10.5 64-bit",
   "name": "python3"
  },
  "language_info": {
   "codemirror_mode": {
    "name": "ipython",
    "version": 3
   },
   "file_extension": ".py",
   "mimetype": "text/x-python",
   "name": "python",
   "nbconvert_exporter": "python",
   "pygments_lexer": "ipython3",
   "version": "3.10.6"
  },
  "orig_nbformat": 4
 },
 "nbformat": 4,
 "nbformat_minor": 2
}
