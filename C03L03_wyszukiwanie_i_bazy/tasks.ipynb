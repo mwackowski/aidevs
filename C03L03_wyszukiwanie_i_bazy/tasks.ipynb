{
 "cells": [
  {
   "cell_type": "code",
   "execution_count": 9,
   "metadata": {},
   "outputs": [],
   "source": [
    "import sys\n",
    "\n",
    "sys.path.append(\"..\")\n",
    "\n",
    "import requests\n",
    "\n",
    "from common.aidevs_authorize import get_task, get_token, send_answer\n",
    "from common.openai_requests import send_chat_completion\n",
    "from common.utils import get_message"
   ]
  },
  {
   "cell_type": "code",
   "execution_count": null,
   "metadata": {},
   "outputs": [],
   "source": [
    "hints = []"
   ]
  },
  {
   "cell_type": "code",
   "execution_count": 16,
   "metadata": {},
   "outputs": [
    {
     "name": "stdout",
     "output_type": "stream",
     "text": [
      "code\n",
      "0\n",
      "****************************************************************************************************\n",
      "msg\n",
      "Each time you call up this task, I will return a trivia item about a certain person (the person does not change). Guess\n",
      "who I am\n",
      "****************************************************************************************************\n",
      "hint\n",
      "był wegetarianinem i eksperymentował z różnymi ekstremalnymi dietami\n",
      "****************************************************************************************************\n"
     ]
    }
   ],
   "source": [
    "import textwrap\n",
    "\n",
    "token = get_token(\"whoami\")\n",
    "task = get_task(token)\n",
    "for k, v in task.items():\n",
    "    print(k)\n",
    "    wrapped = textwrap.wrap(str(v), 120)\n",
    "    print(\"\\n\".join(wrapped))\n",
    "    print(\"*\" * 100)"
   ]
  },
  {
   "cell_type": "code",
   "execution_count": 17,
   "metadata": {},
   "outputs": [
    {
     "name": "stdout",
     "output_type": "stream",
     "text": [
      "['był wegetarianinem i eksperymentował z różnymi ekstremalnymi dietami', 'często chodził boso po biurze']\n",
      "Steve Jobs\n",
      "{\n",
      "    \"code\": 0,\n",
      "    \"msg\": \"OK\",\n",
      "    \"note\": \"CORRECT\"\n",
      "}\n"
     ]
    }
   ],
   "source": [
    "# MODEL GPT 3.5 MAY NOT BE ACCURATE\n",
    "\n",
    "hints = [task[\"hint\"]]\n",
    "\n",
    "system_content = \"\"\"Based on user input guess the person.\n",
    "Be ultra-concise and return the anwer only when you're 100% sure. \n",
    "If you're not sure - return 0\"\"\"\n",
    "\n",
    "while True:\n",
    "    token = get_token(\"whoami\")\n",
    "    task = get_task(token)\n",
    "    hints.append(task[\"hint\"])\n",
    "    print(hints)\n",
    "    conversation = send_chat_completion(\n",
    "        model_version=\"gpt-3.5-turbo\",\n",
    "        system_content=system_content,\n",
    "        user_content=\"\\n\".join(hints),\n",
    "    )\n",
    "    ai_msg = get_message(conversation)\n",
    "    print(ai_msg)\n",
    "    if ai_msg != \"0\":\n",
    "        print(send_answer(token, ai_msg))\n",
    "        break\n",
    "    print(\"8\" * 200)"
   ]
  }
 ],
 "metadata": {
  "interpreter": {
   "hash": "b89b5cfaba6639976dc87ff2fec6d58faec662063367e2c229c520fe71072417"
  },
  "kernelspec": {
   "display_name": "Python 3.10.5 64-bit",
   "name": "python3"
  },
  "language_info": {
   "codemirror_mode": {
    "name": "ipython",
    "version": 3
   },
   "file_extension": ".py",
   "mimetype": "text/x-python",
   "name": "python",
   "nbconvert_exporter": "python",
   "pygments_lexer": "ipython3",
   "version": "3.10.6"
  },
  "orig_nbformat": 4
 },
 "nbformat": 4,
 "nbformat_minor": 2
}
