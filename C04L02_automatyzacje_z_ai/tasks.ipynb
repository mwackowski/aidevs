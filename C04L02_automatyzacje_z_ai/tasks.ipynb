{
 "cells": [
  {
   "cell_type": "code",
   "execution_count": 1,
   "metadata": {},
   "outputs": [],
   "source": [
    "import sys\n",
    "import json\n",
    "\n",
    "sys.path.append(\"..\")\n",
    "\n",
    "import requests\n",
    "\n",
    "from common.aidevs_authorize import get_task, get_token, send_answer\n",
    "from common.openai_requests import send_chat_completion\n",
    "from common.utils import get_message, print_task"
   ]
  },
  {
   "cell_type": "code",
   "execution_count": 10,
   "metadata": {},
   "outputs": [
    {
     "name": "stdout",
     "output_type": "stream",
     "text": [
      "code\n",
      "0\n",
      "****************************************************************************************************\n",
      "msg\n",
      "Decide whether the task should be added to the ToDo list or to the calendar (if time is provided)\n",
      "and return the corresponding JSON\n",
      "****************************************************************************************************\n",
      "hint\n",
      "always use YYYY-MM-DD format for dates\n",
      "****************************************************************************************************\n",
      "example for ToDo\n",
      "Przypomnij mi, że mam kupić mleko = {\"tool\":\"ToDo\",\"desc\":\"Kup mleko\" }\n",
      "****************************************************************************************************\n",
      "example for Calendar\n",
      "Jutro mam spotkanie z Marianem = {\"tool\":\"Calendar\",\"desc\":\"Spotkanie z\n",
      "Marianem\",\"date\":\"2023-11-17\"}\n",
      "****************************************************************************************************\n",
      "question\n",
      "Przypomnij mi, abym zapisał się na AI Devs 3.0\n",
      "****************************************************************************************************\n"
     ]
    }
   ],
   "source": [
    "token = get_token(\"tools\")\n",
    "task = get_task(token)\n",
    "print_task(task, 100)"
   ]
  },
  {
   "cell_type": "code",
   "execution_count": 12,
   "metadata": {},
   "outputs": [
    {
     "name": "stdout",
     "output_type": "stream",
     "text": [
      "Processing question: Przypomnij mi, abym zapisał się na AI Devs 3.0...\n"
     ]
    },
    {
     "data": {
      "text/plain": [
       "{'tool': 'ToDo', 'desc': 'Zapisać się na AI Devs 3.0'}"
      ]
     },
     "execution_count": 12,
     "metadata": {},
     "output_type": "execute_result"
    }
   ],
   "source": [
    "import datetime \n",
    "\n",
    "system_content = \"\"\"Please classify the question \n",
    "\n",
    "### Rules\n",
    "- Do not answer the question, just classify it to one of the categories: ToDo|Calendar.\n",
    "- Calendar should always contain a date. Today is {today}\n",
    "- Be concise and return JSON response only and nothing else.\n",
    "\n",
    "### Templates\n",
    "ToDo: {{\"tool\": \"ToDo\", \"desc\": \"action to perform\"}}\n",
    "Calendar: {{\"tool\": \"ToDo\", \"desc\": \"meeting with XYZ\", \"date\": \"YYYY-MM-DD\"}}\n",
    "\n",
    "### Examples\n",
    "Przypomnij mi, ze mam kupic mleko\n",
    "- {{\"tool\": \"ToDo\", \"desc\": \"Kup mleko\"}}\n",
    "Jutro mam spotkanie z Marianem\n",
    "- {{\"tool\": \"Calendar\", \"desc\": \"Spotkanie z Marianem\", \"date\": \"2023-11-17\"}}\n",
    "\"\"\"\n",
    "\n",
    "\n",
    "question = task[\"question\"]\n",
    "print(f\"Processing question: {question}...\")\n",
    "\n",
    "classification_resp = send_chat_completion(\n",
    "    model_version=\"gpt-3.5-turbo\",\n",
    "    system_content=system_content.format(today=datetime.date.today()),\n",
    "    user_content=question\n",
    ")\n",
    "ai_resp = json.loads(get_message(classification_resp))\n",
    "ai_resp"
   ]
  },
  {
   "cell_type": "code",
   "execution_count": 13,
   "metadata": {},
   "outputs": [
    {
     "data": {
      "text/plain": [
       "'{\\n    \"code\": 0,\\n    \"msg\": \"OK\",\\n    \"note\": \"CORRECT\"\\n}'"
      ]
     },
     "execution_count": 13,
     "metadata": {},
     "output_type": "execute_result"
    }
   ],
   "source": [
    "send_answer(token, answer=ai_resp)"
   ]
  }
 ],
 "metadata": {
  "interpreter": {
   "hash": "b89b5cfaba6639976dc87ff2fec6d58faec662063367e2c229c520fe71072417"
  },
  "kernelspec": {
   "display_name": "Python 3.10.5 64-bit",
   "name": "python3"
  },
  "language_info": {
   "codemirror_mode": {
    "name": "ipython",
    "version": 3
   },
   "file_extension": ".py",
   "mimetype": "text/x-python",
   "name": "python",
   "nbconvert_exporter": "python",
   "pygments_lexer": "ipython3",
   "version": "3.10.6"
  },
  "orig_nbformat": 4
 },
 "nbformat": 4,
 "nbformat_minor": 2
}
