{
 "cells": [
  {
   "cell_type": "code",
   "execution_count": 44,
   "metadata": {},
   "outputs": [],
   "source": [
    "import sys\n",
    "import json\n",
    "from uuid import uuid4\n",
    "import sqlite3\n",
    "\n",
    "sys.path.append(\"..\")\n",
    "\n",
    "from common.aidevs_authorize import get_task, get_token, send_answer\n",
    "from common.openai_requests import send_chat_completion\n",
    "from common.utils import get_message, print_task\n",
    "\n",
    "from langchain.embeddings.openai import OpenAIEmbeddings\n",
    "import requests\n",
    "import pandas as pd"
   ]
  },
  {
   "cell_type": "code",
   "execution_count": 6,
   "metadata": {},
   "outputs": [],
   "source": [
    "URL = \"https://unknow.news/archiwum.json\"\n",
    "COLLECTION_NAME = \"C03E04\"\n",
    "\n",
    "resp = requests.get(URL)\n",
    "json_to_upload = json.loads(resp.text)"
   ]
  },
  {
   "cell_type": "code",
   "execution_count": 54,
   "metadata": {},
   "outputs": [
    {
     "data": {
      "text/plain": [
       "6153"
      ]
     },
     "execution_count": 54,
     "metadata": {},
     "output_type": "execute_result"
    }
   ],
   "source": [
    "# Create database\n",
    "\n",
    "df = pd.DataFrame(json_to_upload)\n",
    "\n",
    "df[\"uuid\"] = df.apply(lambda row: str(uuid4()), axis=1)\n",
    "df[\"collection_name\"] = COLLECTION_NAME\n",
    "\n",
    "con = sqlite3.connect(\"c03e04.db\")\n",
    "df.to_sql(\"embeddings\", con, if_exists=\"replace\", index=False)"
   ]
  },
  {
   "cell_type": "code",
   "execution_count": 61,
   "metadata": {},
   "outputs": [],
   "source": [
    "# Populate database\n",
    "\n",
    "embeddings = OpenAIEmbeddings()\n",
    "\n",
    "points = []\n",
    "local_database = pd.read_sql_query(\"select * from embeddings\", con)\n",
    "\n",
    "for row in local_database[:300].itertuples():\n",
    "    metadata = {\"uuid\": row.uuid, \"content\": row.url, \"source\": row.collection_name}\n",
    "    points.append(\n",
    "        {\n",
    "            \"id\": metadata[\"uuid\"],\n",
    "            \"payload\": metadata,\n",
    "            \"vector\": embeddings.embed_documents([row.url])[0],\n",
    "        }\n",
    "    )"
   ]
  },
  {
   "cell_type": "code",
   "execution_count": 63,
   "metadata": {},
   "outputs": [],
   "source": [
    "# Prepare embeddings for batch upsert\n",
    "\n",
    "ids, vectors, payloads = zip(\n",
    "    *((point[\"id\"], point[\"vector\"], point[\"payload\"]) for point in points)\n",
    ")"
   ]
  },
  {
   "cell_type": "code",
   "execution_count": 46,
   "metadata": {},
   "outputs": [
    {
     "data": {
      "text/plain": [
       "True"
      ]
     },
     "execution_count": 46,
     "metadata": {},
     "output_type": "execute_result"
    }
   ],
   "source": [
    "# CREATE COLLECTION IN QDRANT\n",
    "\n",
    "from qdrant_client import QdrantClient\n",
    "from qdrant_client.http import models\n",
    "\n",
    "\n",
    "client = QdrantClient(\"localhost\", port=6333)\n",
    "result = client.get_collections()\n",
    "\n",
    "client.create_collection(\n",
    "    collection_name=COLLECTION_NAME,\n",
    "    vectors_config=models.VectorParams(\n",
    "        size=1536, distance=models.Distance.COSINE, on_disk=True\n",
    "    ),\n",
    ")"
   ]
  },
  {
   "cell_type": "code",
   "execution_count": 64,
   "metadata": {},
   "outputs": [
    {
     "data": {
      "text/plain": [
       "UpdateResult(operation_id=0, status=<UpdateStatus.COMPLETED: 'completed'>)"
      ]
     },
     "execution_count": 64,
     "metadata": {},
     "output_type": "execute_result"
    }
   ],
   "source": [
    "# Index\n",
    "\n",
    "client.upsert(\n",
    "    COLLECTION_NAME,\n",
    "    points=models.Batch(ids=ids, payloads=payloads, vectors=vectors),\n",
    ")"
   ]
  },
  {
   "cell_type": "code",
   "execution_count": 75,
   "metadata": {},
   "outputs": [
    {
     "name": "stdout",
     "output_type": "stream",
     "text": [
      "code\n",
      "0\n",
      "******************************************************************************************************************************************************\n",
      "msg\n",
      "Index all data from provided URL into vecto store and provide answer to my question - https://unknow.news/archiwum.json\n",
      "******************************************************************************************************************************************************\n",
      "question\n",
      "Co różni pseudonimizację od anonimizowania danych?\n",
      "******************************************************************************************************************************************************\n"
     ]
    }
   ],
   "source": [
    "# Get AIDEVS task\n",
    "\n",
    "token = get_token(\"search\")\n",
    "task = get_task(token)\n",
    "print_task(task)"
   ]
  },
  {
   "cell_type": "code",
   "execution_count": 65,
   "metadata": {},
   "outputs": [],
   "source": [
    "# Create embedding for question provided in task\n",
    "\n",
    "task_embedding = embeddings.embed_query(task[\"question\"])"
   ]
  },
  {
   "cell_type": "code",
   "execution_count": 66,
   "metadata": {},
   "outputs": [
    {
     "name": "stdout",
     "output_type": "stream",
     "text": [
      "[ScoredPoint(id='6d042041-1683-4c2a-94cd-d509874182c4', version=0, score=0.8953796, payload={'content': 'https://www.internet-czas-dzialac.pl/pseudonimizacja-a-anonimizacja/', 'source': 'C03E04', 'uuid': '6d042041-1683-4c2a-94cd-d509874182c4'}, vector=None)]\n"
     ]
    }
   ],
   "source": [
    "# Search for embedded question\n",
    "\n",
    "query_filter = models.Filter(\n",
    "    must=[\n",
    "        models.FieldCondition(\n",
    "            key=\"source\",\n",
    "            match=models.MatchValue(value=COLLECTION_NAME),\n",
    "        )\n",
    "    ]\n",
    ")\n",
    "\n",
    "search = client.search(\n",
    "    COLLECTION_NAME, query_vector=task_embedding, limit=1, query_filter=query_filter\n",
    ")\n",
    "print(search)"
   ]
  },
  {
   "cell_type": "code",
   "execution_count": 74,
   "metadata": {},
   "outputs": [
    {
     "data": {
      "text/plain": [
       "('https://www.internet-czas-dzialac.pl/pseudonimizacja-a-anonimizacja/',)"
      ]
     },
     "execution_count": 74,
     "metadata": {},
     "output_type": "execute_result"
    }
   ],
   "source": [
    "cur = con.cursor()\n",
    "cur.execute(f\"select url from embeddings where uuid = '{search[0].payload['uuid']}'\")\n",
    "res = cur.fetchone()\n",
    "res"
   ]
  },
  {
   "cell_type": "code",
   "execution_count": 76,
   "metadata": {},
   "outputs": [
    {
     "data": {
      "text/plain": [
       "'{\\n    \"code\": 0,\\n    \"msg\": \"OK\",\\n    \"note\": \"CORRECT\"\\n}'"
      ]
     },
     "execution_count": 76,
     "metadata": {},
     "output_type": "execute_result"
    }
   ],
   "source": [
    "# VOILA\n",
    "\n",
    "send_answer(token, answer=res[0])"
   ]
  }
 ],
 "metadata": {
  "interpreter": {
   "hash": "b89b5cfaba6639976dc87ff2fec6d58faec662063367e2c229c520fe71072417"
  },
  "kernelspec": {
   "display_name": "Python 3.10.5 64-bit",
   "name": "python3"
  },
  "language_info": {
   "codemirror_mode": {
    "name": "ipython",
    "version": 3
   },
   "file_extension": ".py",
   "mimetype": "text/x-python",
   "name": "python",
   "nbconvert_exporter": "python",
   "pygments_lexer": "ipython3",
   "version": "3.10.6"
  },
  "orig_nbformat": 4
 },
 "nbformat": 4,
 "nbformat_minor": 2
}
