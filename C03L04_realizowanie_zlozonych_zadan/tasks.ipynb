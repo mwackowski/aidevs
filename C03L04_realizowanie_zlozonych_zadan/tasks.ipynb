{
 "cells": [
  {
   "cell_type": "code",
   "execution_count": 15,
   "metadata": {},
   "outputs": [],
   "source": [
    "import sys\n",
    "import json\n",
    "from uuid import uuid4\n",
    "\n",
    "sys.path.append(\"..\")\n",
    "\n",
    "from common.aidevs_authorize import get_task, get_token, send_answer\n",
    "from common.openai_requests import send_chat_completion\n",
    "from common.utils import get_message, print_task\n",
    "\n",
    "from langchain.embeddings.openai import OpenAIEmbeddings\n",
    "import requests"
   ]
  },
  {
   "cell_type": "code",
   "execution_count": 6,
   "metadata": {},
   "outputs": [],
   "source": [
    "URL = \"https://unknow.news/archiwum.json\"\n",
    "\n",
    "resp = requests.get(URL)\n",
    "json_to_upload = json.loads(resp.text)"
   ]
  },
  {
   "cell_type": "code",
   "execution_count": 9,
   "metadata": {},
   "outputs": [
    {
     "data": {
      "text/plain": [
       "6153"
      ]
     },
     "execution_count": 9,
     "metadata": {},
     "output_type": "execute_result"
    }
   ],
   "source": [
    "len(json_to_upload)"
   ]
  },
  {
   "cell_type": "code",
   "execution_count": 7,
   "metadata": {},
   "outputs": [
    {
     "data": {
      "text/plain": [
       "{'title': 'Niesamowite \"Roboty\" sprzed setek lat - jak to działało? (film, 1h)',\n",
       " 'url': 'https://www.youtube.com/watch?v=6Nt7xLAfEPs',\n",
       " 'info': \"INFO: Z pewnością znasz figurki poruszające się, na przykład w dawnych szopkach bożonarodzeniowych. A może uczył Ci się 'Mechaniczny Turek', który ogrywał wszystkich w szachy? Są to urządzenia sprzed setek lat. Z filmu dowiesz się, co wprawiało te mechanizmy w ruch.\",\n",
       " 'date': '2023-11-10'}"
      ]
     },
     "execution_count": 7,
     "metadata": {},
     "output_type": "execute_result"
    }
   ],
   "source": [
    "json_to_upload[0]"
   ]
  },
  {
   "cell_type": "code",
   "execution_count": 30,
   "metadata": {},
   "outputs": [
    {
     "data": {
      "text/plain": [
       "True"
      ]
     },
     "execution_count": 30,
     "metadata": {},
     "output_type": "execute_result"
    }
   ],
   "source": [
    "# CREATE COLLECTION IN QDRANT\n",
    "\n",
    "from qdrant_client import QdrantClient\n",
    "from qdrant_client.http import models\n",
    "\n",
    "COLLECTION_NAME = \"C03E04\"\n",
    "\n",
    "client = QdrantClient(\"localhost\", port=6333)\n",
    "result = client.get_collections()\n",
    "\n",
    "client.create_collection(\n",
    "    collection_name=COLLECTION_NAME,\n",
    "    vectors_config=models.VectorParams(\n",
    "        size=1536, distance=models.Distance.COSINE, on_disk=True\n",
    "    ),\n",
    ")"
   ]
  },
  {
   "cell_type": "code",
   "execution_count": 27,
   "metadata": {},
   "outputs": [],
   "source": [
    "# Create embeddings\n",
    "\n",
    "embeddings = OpenAIEmbeddings()\n",
    "points = []\n",
    "\n",
    "for el in json_to_upload[:300]:\n",
    "    metadata = {\"uuid\": str(uuid4()), \"content\": el[\"url\"], \"source\": COLLECTION_NAME}\n",
    "    points.append(\n",
    "        {\n",
    "            \"id\": metadata[\"uuid\"],\n",
    "            \"payload\": metadata,\n",
    "            \"vector\": embeddings.embed_documents([el[\"url\"]])[0],\n",
    "        }\n",
    "    )"
   ]
  },
  {
   "cell_type": "code",
   "execution_count": 31,
   "metadata": {},
   "outputs": [
    {
     "data": {
      "text/plain": [
       "UpdateResult(operation_id=0, status=<UpdateStatus.COMPLETED: 'completed'>)"
      ]
     },
     "execution_count": 31,
     "metadata": {},
     "output_type": "execute_result"
    }
   ],
   "source": [
    "# Prepare embeddings for batch upsert\n",
    "ids, vectors, payloads = zip(\n",
    "    *((point[\"id\"], point[\"vector\"], point[\"payload\"]) for point in points)\n",
    ")\n",
    "\n",
    "# Index\n",
    "client.upsert(\n",
    "    COLLECTION_NAME,\n",
    "    points=models.Batch(ids=ids, payloads=payloads, vectors=vectors),\n",
    ")"
   ]
  },
  {
   "cell_type": "code",
   "execution_count": 32,
   "metadata": {},
   "outputs": [
    {
     "name": "stdout",
     "output_type": "stream",
     "text": [
      "code\n",
      "0\n",
      "******************************************************************************************************************************************************\n",
      "msg\n",
      "Index all data from provided URL into vecto store and provide answer to my question - https://unknow.news/archiwum.json\n",
      "******************************************************************************************************************************************************\n",
      "question\n",
      "Co różni pseudonimizację od anonimizowania danych?\n",
      "******************************************************************************************************************************************************\n"
     ]
    }
   ],
   "source": [
    "# Get AIDEVS task \n",
    "\n",
    "token = get_token(\"search\")\n",
    "task = get_task(token)\n",
    "print_task(task)"
   ]
  },
  {
   "cell_type": "code",
   "execution_count": 33,
   "metadata": {},
   "outputs": [],
   "source": [
    "# Create embedding for question provided in task\n",
    "\n",
    "task_embedding = embeddings.embed_query(task[\"question\"])"
   ]
  },
  {
   "cell_type": "code",
   "execution_count": 34,
   "metadata": {},
   "outputs": [
    {
     "name": "stdout",
     "output_type": "stream",
     "text": [
      "[ScoredPoint(id='594dcccd-b31f-454a-a7e0-b87382313c46', version=0, score=0.8953796, payload={'content': 'https://www.internet-czas-dzialac.pl/pseudonimizacja-a-anonimizacja/', 'source': 'C03E04', 'uuid': '594dcccd-b31f-454a-a7e0-b87382313c46'}, vector=None)]\n"
     ]
    }
   ],
   "source": [
    "# Search for embedded question\n",
    "\n",
    "query_filter = models.Filter(\n",
    "    must=[\n",
    "        models.FieldCondition(\n",
    "            key=\"source\",\n",
    "            match=models.MatchValue(value=COLLECTION_NAME),\n",
    "        )\n",
    "    ]\n",
    ")\n",
    "\n",
    "search = client.search(\n",
    "    COLLECTION_NAME, query_vector=task_embedding, limit=1, query_filter=query_filter\n",
    ")\n",
    "print(search)"
   ]
  },
  {
   "cell_type": "code",
   "execution_count": 38,
   "metadata": {},
   "outputs": [
    {
     "data": {
      "text/plain": [
       "'{\\n    \"code\": 0,\\n    \"msg\": \"OK\",\\n    \"note\": \"CORRECT\"\\n}'"
      ]
     },
     "execution_count": 38,
     "metadata": {},
     "output_type": "execute_result"
    }
   ],
   "source": [
    "# VOILA \n",
    "\n",
    "send_answer(token, answer=search[0].payload[\"content\"])"
   ]
  }
 ],
 "metadata": {
  "interpreter": {
   "hash": "b89b5cfaba6639976dc87ff2fec6d58faec662063367e2c229c520fe71072417"
  },
  "kernelspec": {
   "display_name": "Python 3.10.5 64-bit",
   "name": "python3"
  },
  "language_info": {
   "codemirror_mode": {
    "name": "ipython",
    "version": 3
   },
   "file_extension": ".py",
   "mimetype": "text/x-python",
   "name": "python",
   "nbconvert_exporter": "python",
   "pygments_lexer": "ipython3",
   "version": "3.10.6"
  },
  "orig_nbformat": 4
 },
 "nbformat": 4,
 "nbformat_minor": 2
}
