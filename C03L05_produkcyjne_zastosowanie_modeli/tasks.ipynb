{
 "cells": [
  {
   "cell_type": "code",
   "execution_count": 29,
   "metadata": {},
   "outputs": [],
   "source": [
    "import sys\n",
    "import json\n",
    "\n",
    "sys.path.append(\"..\")\n",
    "\n",
    "import pandas as pd\n",
    "import requests\n",
    "from langchain.embeddings.openai import OpenAIEmbeddings\n",
    "\n",
    "from common.aidevs_authorize import get_task, get_token, send_answer\n",
    "from common.openai_requests import send_chat_completion\n",
    "from common.utils import get_message, print_task\n",
    "from common.databases import (\n",
    "    create_collection,\n",
    "    create_database_from_json,\n",
    "    query_collection,\n",
    "    get_points_for_upsert,\n",
    "    upsert_qdrant_collection,\n",
    "    read_table,\n",
    "    get_conn,\n",
    "    query_table_by_uuid,\n",
    ")"
   ]
  },
  {
   "cell_type": "code",
   "execution_count": 66,
   "metadata": {},
   "outputs": [
    {
     "name": "stdout",
     "output_type": "stream",
     "text": [
      "code\n",
      "0\n",
      "****************************************************************************************************\n",
      "msg\n",
      "retrieve the data set (JSON) and answer the question. The question will change every time the task\n",
      "is called. I only ask about favourite colour, favourite food and place of residence\n",
      "****************************************************************************************************\n",
      "data\n",
      "https://zadania.aidevs.pl/data/people.json\n",
      "****************************************************************************************************\n",
      "question\n",
      "Gdzie mieszka Krysia Ludek?\n",
      "****************************************************************************************************\n",
      "hint1\n",
      "Does everything have to be handled by the language model?\n",
      "****************************************************************************************************\n",
      "hint2\n",
      "prepare knowledge DB for this task\n",
      "****************************************************************************************************\n"
     ]
    }
   ],
   "source": [
    "task_name = \"people\"\n",
    "token = get_token(task_name)\n",
    "task = get_task(token)\n",
    "print_task(task, 100)"
   ]
  },
  {
   "cell_type": "code",
   "execution_count": 5,
   "metadata": {},
   "outputs": [],
   "source": [
    "resp = requests.get(task[\"data\"])\n",
    "data = json.loads(resp.text)\n",
    "create_database_from_json(data, \"people\")"
   ]
  },
  {
   "cell_type": "code",
   "execution_count": 6,
   "metadata": {},
   "outputs": [
    {
     "data": {
      "text/html": [
       "<div>\n",
       "<style scoped>\n",
       "    .dataframe tbody tr th:only-of-type {\n",
       "        vertical-align: middle;\n",
       "    }\n",
       "\n",
       "    .dataframe tbody tr th {\n",
       "        vertical-align: top;\n",
       "    }\n",
       "\n",
       "    .dataframe thead th {\n",
       "        text-align: right;\n",
       "    }\n",
       "</style>\n",
       "<table border=\"1\" class=\"dataframe\">\n",
       "  <thead>\n",
       "    <tr style=\"text-align: right;\">\n",
       "      <th></th>\n",
       "      <th>imie</th>\n",
       "      <th>nazwisko</th>\n",
       "      <th>wiek</th>\n",
       "      <th>o_mnie</th>\n",
       "      <th>ulubiona_postac_z_kapitana_bomby</th>\n",
       "      <th>ulubiony_serial</th>\n",
       "      <th>ulubiony_film</th>\n",
       "      <th>ulubiony_kolor</th>\n",
       "      <th>uuid</th>\n",
       "      <th>collection_name</th>\n",
       "      <th>embedded_col</th>\n",
       "    </tr>\n",
       "  </thead>\n",
       "  <tbody>\n",
       "    <tr>\n",
       "      <th>0</th>\n",
       "      <td>Dariusz</td>\n",
       "      <td>Kaczor</td>\n",
       "      <td>46</td>\n",
       "      <td>niekiedy lubie jeść lody. Mieszkam w Radomiu. ...</td>\n",
       "      <td>Admirał Gwiezdnej Floty</td>\n",
       "      <td>Stranger Things</td>\n",
       "      <td>Avengers</td>\n",
       "      <td>morski</td>\n",
       "      <td>dd680c1d-142a-457d-8b6f-92ab1285ea75</td>\n",
       "      <td>PEOPLE</td>\n",
       "      <td>Dariusz Kaczor</td>\n",
       "    </tr>\n",
       "    <tr>\n",
       "      <th>1</th>\n",
       "      <td>Katarzyna</td>\n",
       "      <td>Rumcajs</td>\n",
       "      <td>32</td>\n",
       "      <td>lubie zjadać lody. Mieszkam w Łodzi. Interesuj...</td>\n",
       "      <td>nie oglądam</td>\n",
       "      <td>Big Bang Theory</td>\n",
       "      <td>The Lord of the Rings</td>\n",
       "      <td>magenta</td>\n",
       "      <td>793bff33-bb1d-4bf7-b1d1-ff53c13b0e39</td>\n",
       "      <td>PEOPLE</td>\n",
       "      <td>Katarzyna Rumcajs</td>\n",
       "    </tr>\n",
       "    <tr>\n",
       "      <th>2</th>\n",
       "      <td>Renata</td>\n",
       "      <td>Pizza</td>\n",
       "      <td>49</td>\n",
       "      <td>czasami lubie zjadać pizzę. Mieszkam w Łodzi. ...</td>\n",
       "      <td>nie pamiętam tych wsystkich imion</td>\n",
       "      <td>Walking Dead</td>\n",
       "      <td>The Prestige</td>\n",
       "      <td>czerwony</td>\n",
       "      <td>14dff9d7-89e6-48fd-bb91-d0d421df212d</td>\n",
       "      <td>PEOPLE</td>\n",
       "      <td>Renata Pizza</td>\n",
       "    </tr>\n",
       "    <tr>\n",
       "      <th>3</th>\n",
       "      <td>Katarzyna</td>\n",
       "      <td>Kot</td>\n",
       "      <td>61</td>\n",
       "      <td>niekiedy lubie jeść pizzę. Mieszkam w Krakowie...</td>\n",
       "      <td>nie pamiętam tych wsystkich imion</td>\n",
       "      <td>Game of Thrones</td>\n",
       "      <td>Titanic</td>\n",
       "      <td>oliwkowy</td>\n",
       "      <td>29d14071-661e-4097-8f93-2b1a05543c91</td>\n",
       "      <td>PEOPLE</td>\n",
       "      <td>Katarzyna Kot</td>\n",
       "    </tr>\n",
       "    <tr>\n",
       "      <th>4</th>\n",
       "      <td>Władysław</td>\n",
       "      <td>Bajorko</td>\n",
       "      <td>24</td>\n",
       "      <td>niekiedy lubie jeść pizzę. Mieszkam w Poznaniu...</td>\n",
       "      <td>nie oglądam</td>\n",
       "      <td>LOST</td>\n",
       "      <td>The Sixth Sense</td>\n",
       "      <td>malinowy</td>\n",
       "      <td>7630b4b4-e5b9-4eda-b6fc-ba1e8926b9a0</td>\n",
       "      <td>PEOPLE</td>\n",
       "      <td>Władysław Bajorko</td>\n",
       "    </tr>\n",
       "    <tr>\n",
       "      <th>...</th>\n",
       "      <td>...</td>\n",
       "      <td>...</td>\n",
       "      <td>...</td>\n",
       "      <td>...</td>\n",
       "      <td>...</td>\n",
       "      <td>...</td>\n",
       "      <td>...</td>\n",
       "      <td>...</td>\n",
       "      <td>...</td>\n",
       "      <td>...</td>\n",
       "      <td>...</td>\n",
       "    </tr>\n",
       "    <tr>\n",
       "      <th>1382</th>\n",
       "      <td>Agata</td>\n",
       "      <td>Kaczka</td>\n",
       "      <td>41</td>\n",
       "      <td>niekiedy lubie spożywać pizzę. Mieszkam w Chrz...</td>\n",
       "      <td>Chorąży Torpeda</td>\n",
       "      <td>Dom z papieru</td>\n",
       "      <td>Titanic</td>\n",
       "      <td>oliwkowy</td>\n",
       "      <td>983f5327-2731-400f-82a5-76766ba857a1</td>\n",
       "      <td>PEOPLE</td>\n",
       "      <td>Agata Kaczka</td>\n",
       "    </tr>\n",
       "    <tr>\n",
       "      <th>1383</th>\n",
       "      <td>Jan</td>\n",
       "      <td>Kot</td>\n",
       "      <td>42</td>\n",
       "      <td>czasami lubie jeść lody. Mieszkam w Radomiu. I...</td>\n",
       "      <td>Sułtan Kosmitów</td>\n",
       "      <td>Big Bang Theory</td>\n",
       "      <td>The Lion King</td>\n",
       "      <td>złoty</td>\n",
       "      <td>7d331ba6-5ab0-4aaf-b00a-55cf8625a918</td>\n",
       "      <td>PEOPLE</td>\n",
       "      <td>Jan Kot</td>\n",
       "    </tr>\n",
       "    <tr>\n",
       "      <th>1384</th>\n",
       "      <td>Rafał</td>\n",
       "      <td>Banan</td>\n",
       "      <td>36</td>\n",
       "      <td>czasami lubie jeść lody. Mieszkam w Łodzi. Int...</td>\n",
       "      <td>nie oglądam</td>\n",
       "      <td>Moda na sukces</td>\n",
       "      <td>The Departed</td>\n",
       "      <td>biały</td>\n",
       "      <td>7a371de7-5ea4-4490-ba4c-a993db51828d</td>\n",
       "      <td>PEOPLE</td>\n",
       "      <td>Rafał Banan</td>\n",
       "    </tr>\n",
       "    <tr>\n",
       "      <th>1385</th>\n",
       "      <td>Maciej</td>\n",
       "      <td>Kaczor</td>\n",
       "      <td>62</td>\n",
       "      <td>niekiedy lubie zjadać lody. Mieszkam w Radomiu...</td>\n",
       "      <td>Admirał Gwiezdnej Floty</td>\n",
       "      <td>Dom z papieru</td>\n",
       "      <td>Titanic</td>\n",
       "      <td>koralowy</td>\n",
       "      <td>641b62f5-ab08-4795-b84b-4e2e5ce01feb</td>\n",
       "      <td>PEOPLE</td>\n",
       "      <td>Maciej Kaczor</td>\n",
       "    </tr>\n",
       "    <tr>\n",
       "      <th>1386</th>\n",
       "      <td>Janina</td>\n",
       "      <td>Gniazdo</td>\n",
       "      <td>33</td>\n",
       "      <td>czasami lubie jeść pizzę. Mieszkam w Wrocławiu...</td>\n",
       "      <td>Sułtan Kosmitów</td>\n",
       "      <td>Moda na sukces</td>\n",
       "      <td>The Godfather</td>\n",
       "      <td>złoty</td>\n",
       "      <td>45d8451a-11ff-496a-99ea-0d323634aa3e</td>\n",
       "      <td>PEOPLE</td>\n",
       "      <td>Janina Gniazdo</td>\n",
       "    </tr>\n",
       "  </tbody>\n",
       "</table>\n",
       "<p>1387 rows × 11 columns</p>\n",
       "</div>"
      ],
      "text/plain": [
       "           imie nazwisko  wiek  \\\n",
       "0       Dariusz   Kaczor    46   \n",
       "1     Katarzyna  Rumcajs    32   \n",
       "2        Renata    Pizza    49   \n",
       "3     Katarzyna      Kot    61   \n",
       "4     Władysław  Bajorko    24   \n",
       "...         ...      ...   ...   \n",
       "1382      Agata   Kaczka    41   \n",
       "1383        Jan      Kot    42   \n",
       "1384      Rafał    Banan    36   \n",
       "1385     Maciej   Kaczor    62   \n",
       "1386     Janina  Gniazdo    33   \n",
       "\n",
       "                                                 o_mnie  \\\n",
       "0     niekiedy lubie jeść lody. Mieszkam w Radomiu. ...   \n",
       "1     lubie zjadać lody. Mieszkam w Łodzi. Interesuj...   \n",
       "2     czasami lubie zjadać pizzę. Mieszkam w Łodzi. ...   \n",
       "3     niekiedy lubie jeść pizzę. Mieszkam w Krakowie...   \n",
       "4     niekiedy lubie jeść pizzę. Mieszkam w Poznaniu...   \n",
       "...                                                 ...   \n",
       "1382  niekiedy lubie spożywać pizzę. Mieszkam w Chrz...   \n",
       "1383  czasami lubie jeść lody. Mieszkam w Radomiu. I...   \n",
       "1384  czasami lubie jeść lody. Mieszkam w Łodzi. Int...   \n",
       "1385  niekiedy lubie zjadać lody. Mieszkam w Radomiu...   \n",
       "1386  czasami lubie jeść pizzę. Mieszkam w Wrocławiu...   \n",
       "\n",
       "       ulubiona_postac_z_kapitana_bomby  ulubiony_serial  \\\n",
       "0               Admirał Gwiezdnej Floty  Stranger Things   \n",
       "1                           nie oglądam  Big Bang Theory   \n",
       "2     nie pamiętam tych wsystkich imion     Walking Dead   \n",
       "3     nie pamiętam tych wsystkich imion  Game of Thrones   \n",
       "4                           nie oglądam             LOST   \n",
       "...                                 ...              ...   \n",
       "1382                    Chorąży Torpeda    Dom z papieru   \n",
       "1383                    Sułtan Kosmitów  Big Bang Theory   \n",
       "1384                        nie oglądam   Moda na sukces   \n",
       "1385            Admirał Gwiezdnej Floty    Dom z papieru   \n",
       "1386                    Sułtan Kosmitów   Moda na sukces   \n",
       "\n",
       "              ulubiony_film ulubiony_kolor  \\\n",
       "0                  Avengers         morski   \n",
       "1     The Lord of the Rings        magenta   \n",
       "2              The Prestige       czerwony   \n",
       "3                   Titanic       oliwkowy   \n",
       "4           The Sixth Sense       malinowy   \n",
       "...                     ...            ...   \n",
       "1382                Titanic       oliwkowy   \n",
       "1383          The Lion King          złoty   \n",
       "1384           The Departed          biały   \n",
       "1385                Titanic       koralowy   \n",
       "1386          The Godfather          złoty   \n",
       "\n",
       "                                      uuid collection_name       embedded_col  \n",
       "0     dd680c1d-142a-457d-8b6f-92ab1285ea75          PEOPLE     Dariusz Kaczor  \n",
       "1     793bff33-bb1d-4bf7-b1d1-ff53c13b0e39          PEOPLE  Katarzyna Rumcajs  \n",
       "2     14dff9d7-89e6-48fd-bb91-d0d421df212d          PEOPLE       Renata Pizza  \n",
       "3     29d14071-661e-4097-8f93-2b1a05543c91          PEOPLE      Katarzyna Kot  \n",
       "4     7630b4b4-e5b9-4eda-b6fc-ba1e8926b9a0          PEOPLE  Władysław Bajorko  \n",
       "...                                    ...             ...                ...  \n",
       "1382  983f5327-2731-400f-82a5-76766ba857a1          PEOPLE       Agata Kaczka  \n",
       "1383  7d331ba6-5ab0-4aaf-b00a-55cf8625a918          PEOPLE            Jan Kot  \n",
       "1384  7a371de7-5ea4-4490-ba4c-a993db51828d          PEOPLE        Rafał Banan  \n",
       "1385  641b62f5-ab08-4795-b84b-4e2e5ce01feb          PEOPLE      Maciej Kaczor  \n",
       "1386  45d8451a-11ff-496a-99ea-0d323634aa3e          PEOPLE     Janina Gniazdo  \n",
       "\n",
       "[1387 rows x 11 columns]"
      ]
     },
     "execution_count": 6,
     "metadata": {},
     "output_type": "execute_result"
    }
   ],
   "source": [
    "collection_name = task_name.upper()\n",
    "\n",
    "df = read_table(collection_name)\n",
    "df[\"embedded_col\"] = df[\"imie\"] + \" \" + df[\"nazwisko\"]\n",
    "df"
   ]
  },
  {
   "cell_type": "code",
   "execution_count": 23,
   "metadata": {},
   "outputs": [],
   "source": [
    "points = get_points_for_upsert(df, \"embedded_col\")\n",
    "upsert_qdrant_collection(points, collection_name)"
   ]
  },
  {
   "cell_type": "code",
   "execution_count": 67,
   "metadata": {},
   "outputs": [
    {
     "data": {
      "text/plain": [
       "[ScoredPoint(id='88d0cedd-b91c-4637-9acc-104dad7a1512', version=11, score=0.8911058, payload={'content': 'Krystyna Ludek', 'source': 'PEOPLE', 'uuid': '88d0cedd-b91c-4637-9acc-104dad7a1512'}, vector=None)]"
      ]
     },
     "execution_count": 67,
     "metadata": {},
     "output_type": "execute_result"
    }
   ],
   "source": [
    "embeddings = OpenAIEmbeddings()\n",
    "\n",
    "embedded_query = embeddings.embed_query(task[\"question\"])\n",
    "resp = query_collection(embedded_query, collection_name)\n",
    "resp"
   ]
  },
  {
   "cell_type": "code",
   "execution_count": 68,
   "metadata": {},
   "outputs": [
    {
     "data": {
      "text/plain": [
       "imie                                                                         Krystyna\n",
       "nazwisko                                                                        Ludek\n",
       "wiek                                                                               46\n",
       "o_mnie                              niekiedy lubie jeść lody. Mieszkam w Warszawie...\n",
       "ulubiona_postac_z_kapitana_bomby                                          nie oglądam\n",
       "ulubiony_serial                                                                  LOST\n",
       "ulubiony_film                                                         The Sixth Sense\n",
       "ulubiony_kolor                                                              granatowy\n",
       "uuid                                             88d0cedd-b91c-4637-9acc-104dad7a1512\n",
       "collection_name                                                                PEOPLE\n",
       "Name: 0, dtype: object"
      ]
     },
     "execution_count": 68,
     "metadata": {},
     "output_type": "execute_result"
    }
   ],
   "source": [
    "uuid_found = resp[0].payload[\"uuid\"]\n",
    "\n",
    "answer_record = query_table_by_uuid(collection_name.lower(), uuid_found).loc[0]\n",
    "answer_record"
   ]
  },
  {
   "cell_type": "code",
   "execution_count": 69,
   "metadata": {},
   "outputs": [],
   "source": [
    "system_content = \"\\n\".join(\n",
    "    [\n",
    "        \"Be very specific and ultra-concise, return as little information as possible. When asked a question, return an equivalent sentce instead of full sentence\",\n",
    "        f\"Informacje o: {answer_record.imie} {answer_record.nazwisko}\",\n",
    "        f\"Opis: {answer_record.o_mnie}\",\n",
    "        f\"Ulubiony kolor: {answer_record.ulubiony_kolor}\",\n",
    "    ]\n",
    ")\n",
    "ai_resp = send_chat_completion(\n",
    "    model_version=\"gpt-4\", system_content=system_content, user_content=task[\"question\"]\n",
    ")\n",
    "ai_resp = get_message(ai_resp)"
   ]
  },
  {
   "cell_type": "code",
   "execution_count": 70,
   "metadata": {},
   "outputs": [
    {
     "data": {
      "text/plain": [
       "'Warszawa.'"
      ]
     },
     "execution_count": 70,
     "metadata": {},
     "output_type": "execute_result"
    }
   ],
   "source": [
    "ai_resp"
   ]
  },
  {
   "cell_type": "code",
   "execution_count": 71,
   "metadata": {},
   "outputs": [
    {
     "data": {
      "text/plain": [
       "'{\\n    \"code\": 0,\\n    \"msg\": \"OK\",\\n    \"note\": \"CORRECT\"\\n}'"
      ]
     },
     "execution_count": 71,
     "metadata": {},
     "output_type": "execute_result"
    }
   ],
   "source": [
    "send_answer(token, ai_resp)"
   ]
  }
 ],
 "metadata": {
  "interpreter": {
   "hash": "b89b5cfaba6639976dc87ff2fec6d58faec662063367e2c229c520fe71072417"
  },
  "kernelspec": {
   "display_name": "Python 3.10.5 64-bit",
   "name": "python3"
  },
  "language_info": {
   "codemirror_mode": {
    "name": "ipython",
    "version": 3
   },
   "file_extension": ".py",
   "mimetype": "text/x-python",
   "name": "python",
   "nbconvert_exporter": "python",
   "pygments_lexer": "ipython3",
   "version": "3.10.6"
  },
  "orig_nbformat": 4
 },
 "nbformat": 4,
 "nbformat_minor": 2
}
