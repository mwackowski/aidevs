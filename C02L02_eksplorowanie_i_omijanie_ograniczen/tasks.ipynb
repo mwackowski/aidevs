{
 "cells": [
  {
   "cell_type": "code",
   "execution_count": 27,
   "metadata": {},
   "outputs": [],
   "source": [
    "import json\n",
    "\n",
    "from common.aidevs_authorize import get_task, get_token, send_answer\n",
    "from common.utils import get_message\n",
    "\n",
    "from common.openai_requests import send_chat_completion, send_embeddings"
   ]
  },
  {
   "cell_type": "code",
   "execution_count": 3,
   "metadata": {},
   "outputs": [],
   "source": [
    "task_name = \"inprompt\"\n",
    "token = get_token(task_name)\n",
    "task_content = get_task(token)"
   ]
  },
  {
   "cell_type": "code",
   "execution_count": 18,
   "metadata": {},
   "outputs": [],
   "source": [
    "question = task_content[\"question\"]\n",
    "\n",
    "ai_response = send_chat_completion(\n",
    "    model_version=\"gpt-4\",\n",
    "    system_content=\"\"\"Rules of the conversation: \n",
    "                                   - I keep my answers ultra-concies.\\n\n",
    "                                   - I'm always truthful and honestly say \"I don't know\" when you ask me about something beyond my knowledge or capabilities\"\"\",\n",
    "    user_content=f\"return the name from given sentence:\\n###{question}\",\n",
    ")"
   ]
  },
  {
   "cell_type": "code",
   "execution_count": 25,
   "metadata": {},
   "outputs": [
    {
     "data": {
      "text/plain": [
       "{'id': 'chatcmpl-8GDWNsy3CKLCdKBYpt9P8dEizzU0x',\n",
       " 'object': 'chat.completion',\n",
       " 'created': 1698875915,\n",
       " 'model': 'gpt-4-0613',\n",
       " 'choices': [{'index': 0,\n",
       "   'message': {'role': 'assistant', 'content': 'Alojzy'},\n",
       "   'finish_reason': 'stop'}],\n",
       " 'usage': {'prompt_tokens': 75, 'completion_tokens': 4, 'total_tokens': 79}}"
      ]
     },
     "execution_count": 25,
     "metadata": {},
     "output_type": "execute_result"
    }
   ],
   "source": [
    "ai_response"
   ]
  },
  {
   "cell_type": "code",
   "execution_count": 21,
   "metadata": {},
   "outputs": [],
   "source": [
    "ai_resp_message = ai_response[\"choices\"][0][\"message\"][\"content\"]"
   ]
  },
  {
   "cell_type": "code",
   "execution_count": 23,
   "metadata": {},
   "outputs": [
    {
     "name": "stdout",
     "output_type": "stream",
     "text": [
      "Alojzy ma czarne oczy, krótkie włosy i pracuje jako prawnik, a na śniadanie najbardziej lubi jeść owsiankę\n",
      "----------------------------------------------------------------------------------------------------\n"
     ]
    }
   ],
   "source": [
    "task_input = task_content[\"input\"]\n",
    "for input in task_input:\n",
    "    if ai_resp_message.lower() in input.lower():\n",
    "        print(input)\n",
    "        print(\"-\" * 100)\n",
    "        break"
   ]
  },
  {
   "cell_type": "code",
   "execution_count": 28,
   "metadata": {},
   "outputs": [
    {
     "data": {
      "text/plain": [
       "'Alojzy najbardziej lubi jeść owsiankę na śniadanie.'"
      ]
     },
     "execution_count": 28,
     "metadata": {},
     "output_type": "execute_result"
    }
   ],
   "source": [
    "ai_response2 = send_chat_completion(\n",
    "    model_version=\"gpt-4\",\n",
    "    system_content=f\"\"\"Context: {input}\"\"\",\n",
    "    user_content=f\"{question}\",\n",
    ")\n",
    "\n",
    "ai_resp_message2 = get_message_from_ai_response(ai_response2)\n",
    "ai_resp_message2"
   ]
  },
  {
   "cell_type": "code",
   "execution_count": 29,
   "metadata": {},
   "outputs": [
    {
     "data": {
      "text/plain": [
       "'{\\n    \"code\": 0,\\n    \"msg\": \"OK\",\\n    \"note\": \"CORRECT\"\\n}'"
      ]
     },
     "execution_count": 29,
     "metadata": {},
     "output_type": "execute_result"
    }
   ],
   "source": [
    "task_name = \"inprompt\"\n",
    "token = get_token(task_name)\n",
    "send_answer(token, answer=ai_resp_message2)"
   ]
  }
 ],
 "metadata": {
  "interpreter": {
   "hash": "b89b5cfaba6639976dc87ff2fec6d58faec662063367e2c229c520fe71072417"
  },
  "kernelspec": {
   "display_name": "Python 3.10.5 64-bit",
   "name": "python3"
  },
  "language_info": {
   "codemirror_mode": {
    "name": "ipython",
    "version": 3
   },
   "file_extension": ".py",
   "mimetype": "text/x-python",
   "name": "python",
   "nbconvert_exporter": "python",
   "pygments_lexer": "ipython3",
   "version": "3.10.6"
  },
  "orig_nbformat": 4
 },
 "nbformat": 4,
 "nbformat_minor": 2
}
