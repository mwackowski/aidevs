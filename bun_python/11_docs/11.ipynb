{
 "cells": [
  {
   "cell_type": "code",
   "execution_count": 3,
   "metadata": {},
   "outputs": [
    {
     "name": "stdout",
     "output_type": "stream",
     "text": [
      "[Document(page_content='Adam has various skills but describes himself as \"just curious.\"'), Document(page_content='Adam have a dog named Alexa.'), Document(page_content='Adam lives in Krakow with his fiancée and dog.'), Document(page_content='Adam is involved in a couple of projects like eduweb.pl, ahoy.so, easy.tools, overment.com, heyalice.app, automation.house, and more.'), Document(page_content=\"Adam knows JavaScript and Python very well. He's full-stack engineer.\"), Document(page_content='Adam loves music. He listens to Spotify all the time.'), Document(page_content=\"Adam's nickname is 'overment'.\"), Document(page_content=\"Adam has a youtube channel named 'overment'.\"), Document(page_content='Adam is a big fan of Apple products.'), Document(page_content='Adam is a big fan of Tesla cars.'), Document(page_content='Jakub is also known as \"unknow\"'), Document(page_content='Jakub has a YouTube channel named uwteam.org.'), Document(page_content='He is the creator of the newsletter unknow.news.'), Document(page_content='Jakub owns a company named mikr.us.'), Document(page_content='He also has broad knowledge and experience in the cybersecurity area.'), Document(page_content='Jakub lives near Krakow with his family'), Document(page_content='Jakub loves his camper.'), Document(page_content='Mateusz has a YouTube channel and is working on his own startup.'), Document(page_content='Mateusz has various skills, but meme generation is his unique one.'), Document(page_content='Mateusz lives in Katowice with his family.'), Document(page_content='Mateusz works with companies like Nethone, Airspace Intelligence, SDR Shadow Startup, and more.'), Document(page_content='Mateusz has broad experience in the area of cybersecurity.')]\n"
     ]
    },
    {
     "name": "stderr",
     "output_type": "stream",
     "text": [
      "Authentication failed for https://api.smith.langchain.com/runs/fb5048b9-d398-4b9e-80dc-22268d2a57b0. HTTPError('401 Client Error: Unauthorized for url: https://api.smith.langchain.com/runs/fb5048b9-d398-4b9e-80dc-22268d2a57b0', '{\"detail\":\"Invalid auth\"}')\n",
      "Authentication failed for https://api.smith.langchain.com/runs. HTTPError('401 Client Error: Unauthorized for url: https://api.smith.langchain.com/runs', '{\"detail\":\"Invalid auth\"}')\n"
     ]
    }
   ],
   "source": [
    "import json\n",
    "\n",
    "from langchain.chat_models import ChatOpenAI\n",
    "from langchain.document_loaders.text import TextLoader\n",
    "from langchain.chat_models.openai import ChatOpenAI\n",
    "from langchain.schema import HumanMessage, SystemMessage, Document\n",
    "\n",
    "from dotenv import load_dotenv, find_dotenv\n",
    "\n",
    "load_dotenv(find_dotenv())\n",
    "try:\n",
    "    loader = TextLoader(\"bun_python/11_docs/docs.md\")\n",
    "    doc = loader.load()[0]\n",
    "except (FileNotFoundError, RuntimeError):\n",
    "    loader = TextLoader(\"docs.md\")\n",
    "    doc = loader.load()[0]\n",
    "\n",
    "documents = [\n",
    "    Document(page_content=content) for content in doc.page_content.split(\"\\n\\n\")\n",
    "]\n",
    "\n",
    "print(documents)\n",
    "\n",
    "chat = ChatOpenAI()\n",
    "descriptions = []\n",
    "for doc in documents:\n",
    "    descriptions.append(\n",
    "        chat.predict_messages(\n",
    "            messages=[\n",
    "                SystemMessage(\n",
    "                    content=\"Describe the following document with one of the following keywords: Mateusz, Jakub, Adam. Return the keyword and nothing else.\"\n",
    "                ),\n",
    "                HumanMessage(content=f\"Document: {doc.page_content}\"),\n",
    "            ]\n",
    "        )\n",
    "    )"
   ]
  },
  {
   "cell_type": "code",
   "execution_count": 22,
   "metadata": {},
   "outputs": [],
   "source": [
    "for doc, desc in zip(documents, descriptions):\n",
    "    doc.metadata[\"source\"] = desc.content\n",
    "\n",
    "documents_data = [\n",
    "    {\"page_content\": doc.page_content, \"metadata\": {\"source\": doc.metadata[\"source\"]}}\n",
    "    for doc in documents\n",
    "]\n",
    "\n",
    "# Save the JSON data to a file locally\n",
    "file_path = \"documents.json\"\n",
    "with open(file_path, \"w\") as json_file:\n",
    "    json.dump(documents_data, json_file, indent=2)"
   ]
  }
 ],
 "metadata": {
  "kernelspec": {
   "display_name": ".venv",
   "language": "python",
   "name": "python3"
  },
  "language_info": {
   "codemirror_mode": {
    "name": "ipython",
    "version": 3
   },
   "file_extension": ".py",
   "mimetype": "text/x-python",
   "name": "python",
   "nbconvert_exporter": "python",
   "pygments_lexer": "ipython3",
   "version": "3.10.6"
  },
  "orig_nbformat": 4
 },
 "nbformat": 4,
 "nbformat_minor": 2
}
