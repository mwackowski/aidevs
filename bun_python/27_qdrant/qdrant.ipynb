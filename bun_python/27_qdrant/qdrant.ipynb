{
 "cells": [
  {
   "cell_type": "code",
   "execution_count": null,
   "metadata": {},
   "outputs": [],
   "source": [
    "# sudo docker run -p 6333:6333 -v $(pwd)/qdrant_storage:/qdrant/storage qdrant/qdrant"
   ]
  },
  {
   "cell_type": "code",
   "execution_count": 86,
   "metadata": {},
   "outputs": [
    {
     "name": "stdout",
     "output_type": "stream",
     "text": [
      "collections=[CollectionDescription(name='first_test_collection')]\n"
     ]
    }
   ],
   "source": [
    "from uuid import uuid4\n",
    "\n",
    "from langchain.document_loaders.text import TextLoader\n",
    "from langchain.schema.document import Document\n",
    "from langchain.embeddings.openai import OpenAIEmbeddings\n",
    "from qdrant_client import QdrantClient\n",
    "from qdrant_client.http import models\n",
    "from qdrant_client.http.exceptions import UnexpectedResponse\n",
    "\n",
    "from dotenv import load_dotenv, find_dotenv\n",
    "\n",
    "load_dotenv(find_dotenv())\n",
    "\n",
    "\n",
    "MEMORY_PATH = \"27_qddrant/memory.md\"\n",
    "COLLECTION_NAME = \"ai_devs\"\n",
    "\n",
    "\n",
    "# localhost can be changed to: os.environ['QDRANT_URL']\n",
    "client = QdrantClient(\"localhost\", port=6333)\n",
    "\n",
    "embeddings = OpenAIEmbeddings()\n",
    "query = \"Do you know the name of Adam's dog?\"\n",
    "query_embedding = embeddings.embed_query(query)\n",
    "result = client.get_collections()\n",
    "\n",
    "# Check if collection exists\n",
    "indexed = next(\n",
    "    (\n",
    "        collection\n",
    "        for collection in result.collections\n",
    "        if collection.name == COLLECTION_NAME\n",
    "    ),\n",
    "    None,\n",
    ")\n",
    "print(result)"
   ]
  },
  {
   "cell_type": "code",
   "execution_count": 88,
   "metadata": {},
   "outputs": [],
   "source": [
    "if not indexed:\n",
    "    client.create_collection(\n",
    "        collection_name=COLLECTION_NAME,\n",
    "        vectors_config=models.VectorParams(\n",
    "            size=1536, distance=models.Distance.COSINE, on_disk=True\n",
    "        ),\n",
    "    )"
   ]
  },
  {
   "cell_type": "code",
   "execution_count": 93,
   "metadata": {},
   "outputs": [
    {
     "name": "stdout",
     "output_type": "stream",
     "text": [
      "[ScoredPoint(id='852098bb-af02-480a-9c11-0027c6193e83', version=0, score=0.90141785, payload={'content': 'Adam have a dog named Alexa.', 'source': 'ai_devs', 'uuid': '852098bb-af02-480a-9c11-0027c6193e83'}, vector=None)]\n"
     ]
    }
   ],
   "source": [
    "collection_info = client.get_collection(COLLECTION_NAME)\n",
    "if not collection_info.points_count:\n",
    "    MEMORY_PATH = \"memory.md\"\n",
    "    loader = TextLoader(MEMORY_PATH)\n",
    "    memory = loader.load()\n",
    "    documents = [\n",
    "        Document(\n",
    "            page_content=content,\n",
    "            metadata={\n",
    "                \"content\": content,\n",
    "                \"source\": COLLECTION_NAME,\n",
    "                \"uuid\": str(uuid4()),\n",
    "            },\n",
    "        )\n",
    "        for content in memory[0].page_content.split(\"\\n\\n\")\n",
    "    ]\n",
    "\n",
    "    points = [\n",
    "        {\n",
    "            \"id\": document.metadata[\"uuid\"],\n",
    "            \"payload\": document.metadata,\n",
    "            \"vector\": embeddings.embed_documents([document.page_content])[0],\n",
    "        }\n",
    "        for document in documents\n",
    "    ]\n",
    "\n",
    "    ids, vectors, payloads = zip(\n",
    "        *((point[\"id\"], point[\"vector\"], point[\"payload\"]) for point in points)\n",
    "    )\n",
    "\n",
    "    client.upsert(\n",
    "        COLLECTION_NAME,\n",
    "        points=models.Batch(ids=ids, payloads=payloads, vectors=vectors),\n",
    "    )\n",
    "\n",
    "query_filter = models.Filter(\n",
    "    must=[\n",
    "        models.FieldCondition(\n",
    "            key=\"source\",\n",
    "            match=models.MatchValue(value=COLLECTION_NAME),\n",
    "        )\n",
    "    ]\n",
    ")\n",
    "search = client.search(\n",
    "    COLLECTION_NAME, query_vector=query_embedding, limit=1, query_filter=query_filter\n",
    ")\n",
    "print(search)"
   ]
  }
 ],
 "metadata": {
  "kernelspec": {
   "display_name": ".venv",
   "language": "python",
   "name": "python3"
  },
  "language_info": {
   "codemirror_mode": {
    "name": "ipython",
    "version": 3
   },
   "file_extension": ".py",
   "mimetype": "text/x-python",
   "name": "python",
   "nbconvert_exporter": "python",
   "pygments_lexer": "ipython3",
   "version": "3.10.6"
  },
  "orig_nbformat": 4
 },
 "nbformat": 4,
 "nbformat_minor": 2
}
