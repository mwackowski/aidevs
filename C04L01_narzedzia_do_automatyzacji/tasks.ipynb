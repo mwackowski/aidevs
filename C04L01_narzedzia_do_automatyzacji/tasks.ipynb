{
 "cells": [
  {
   "cell_type": "code",
   "execution_count": 1,
   "metadata": {},
   "outputs": [],
   "source": [
    "import sys\n",
    "import json\n",
    "\n",
    "sys.path.append(\"..\")\n",
    "\n",
    "import requests\n",
    "\n",
    "from common.aidevs_authorize import get_task, get_token, send_answer\n",
    "from common.openai_requests import send_chat_completion\n",
    "from common.utils import get_message, print_task"
   ]
  },
  {
   "cell_type": "code",
   "execution_count": 2,
   "metadata": {},
   "outputs": [
    {
     "name": "stdout",
     "output_type": "stream",
     "text": [
      "code\n",
      "0\n",
      "****************************************************************************************************\n",
      "msg\n",
      "I will ask you a question about the exchange rate, the current population or general knowledge.\n",
      "Decide whether you will take your knowledge from external sources or from the knowledge of the model\n",
      "****************************************************************************************************\n",
      "question\n",
      "podaj populację Francji\n",
      "****************************************************************************************************\n",
      "database #1\n",
      "Currency http://api.nbp.pl/en.html (use table A)\n",
      "****************************************************************************************************\n",
      "database #2\n",
      "Knowledge about countries https://restcountries.com/ - field 'population'\n",
      "****************************************************************************************************\n"
     ]
    }
   ],
   "source": [
    "token = get_token(\"knowledge\")\n",
    "task = get_task(token)\n",
    "print_task(task, 100)"
   ]
  },
  {
   "cell_type": "code",
   "execution_count": 3,
   "metadata": {},
   "outputs": [
    {
     "name": "stdout",
     "output_type": "stream",
     "text": [
      "Processing question: podaj populację Francji...\n"
     ]
    }
   ],
   "source": [
    "def get_country_population(country_response):\n",
    "    return country_response[0][\"population\"]\n",
    "\n",
    "\n",
    "def get_exchange_rate(nbp_response):\n",
    "    return str(nbp_response[\"rates\"][0][\"mid\"])\n",
    "\n",
    "\n",
    "def make_knowledge_request(ai_resp: json):\n",
    "    db_mapper = {\n",
    "        \"exchange rate\": {\n",
    "            \"url\": \"https://api.nbp.pl/api/exchangerates/rates/a/{currency}/?format=json\",\n",
    "            \"fn_call\": get_exchange_rate,\n",
    "        },\n",
    "        \"current population\": {\n",
    "            \"url\": \"https://restcountries.com/v3.1/name/{country}?fields=name,population\",\n",
    "            \"fn_call\": get_country_population,\n",
    "        },\n",
    "    }\n",
    "    category = db_mapper.get(ai_resp[\"category\"])\n",
    "    url, fn = category[\"url\"].format(**ai_resp), category[\"fn_call\"]\n",
    "    resp = requests.get(url)\n",
    "    return fn(json.loads(resp.text))\n",
    "\n",
    "\n",
    "system_content = \"\"\"Please classify the question to category: exchange rate|current population|general knowledge. \n",
    "Do not answer the question, just classify it to one of the categories:\n",
    "###\n",
    "What is the capital city of Poland?\n",
    "- {\"category\": \"general knowledge\"}\n",
    "What is the population of USA?\n",
    "- {\"category\": \"current population\", \"country\": \"Czech Republic\"}\n",
    "Please provide current GBPPLN rate.\n",
    "- {\"category\": \"exchange rate\", \"currency\": \"GBP\"}\n",
    "\"\"\"\n",
    "question = task[\"question\"]\n",
    "print(f\"Processing question: {question}...\")\n",
    "\n",
    "classification_resp = send_chat_completion(\n",
    "    model_version=\"gpt-3.5-turbo\",\n",
    "    system_content=system_content,\n",
    "    user_content=task[\"question\"],\n",
    ")\n",
    "ai_resp = json.loads(get_message(classification_resp))\n",
    "\n",
    "if \"general knowledge\" in ai_resp.values():\n",
    "    answer_response = send_chat_completion(\n",
    "        model_version=\"gpt-4\",\n",
    "        system_content=\"Be ultra concise and provide answer ultra-briefly\",\n",
    "        user_content=question,\n",
    "    )\n",
    "    answer_response = get_message(answer_response)\n",
    "else:\n",
    "    answer_response = make_knowledge_request(ai_resp)"
   ]
  },
  {
   "cell_type": "code",
   "execution_count": 4,
   "metadata": {},
   "outputs": [
    {
     "data": {
      "text/plain": [
       "67391582"
      ]
     },
     "execution_count": 4,
     "metadata": {},
     "output_type": "execute_result"
    }
   ],
   "source": [
    "answer_response"
   ]
  },
  {
   "cell_type": "code",
   "execution_count": 5,
   "metadata": {},
   "outputs": [
    {
     "data": {
      "text/plain": [
       "'{\\n    \"code\": 0,\\n    \"msg\": \"OK\",\\n    \"note\": \"CORRECT\"\\n}'"
      ]
     },
     "execution_count": 5,
     "metadata": {},
     "output_type": "execute_result"
    }
   ],
   "source": [
    "send_answer(token, answer_response)"
   ]
  }
 ],
 "metadata": {
  "interpreter": {
   "hash": "b89b5cfaba6639976dc87ff2fec6d58faec662063367e2c229c520fe71072417"
  },
  "kernelspec": {
   "display_name": "Python 3.10.5 64-bit",
   "name": "python3"
  },
  "language_info": {
   "codemirror_mode": {
    "name": "ipython",
    "version": 3
   },
   "file_extension": ".py",
   "mimetype": "text/x-python",
   "name": "python",
   "nbconvert_exporter": "python",
   "pygments_lexer": "ipython3",
   "version": "3.10.6"
  },
  "orig_nbformat": 4
 },
 "nbformat": 4,
 "nbformat_minor": 2
}
