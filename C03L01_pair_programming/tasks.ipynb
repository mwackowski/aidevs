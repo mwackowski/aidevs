{
 "cells": [
  {
   "cell_type": "code",
   "execution_count": 9,
   "metadata": {},
   "outputs": [],
   "source": [
    "import sys\n",
    "\n",
    "sys.path.append(\"..\")\n",
    "\n",
    "from common.aidevs_authorize import get_task, get_token, send_answer\n",
    "from common.openai_requests import send_chat_completion"
   ]
  },
  {
   "cell_type": "code",
   "execution_count": 12,
   "metadata": {},
   "outputs": [
    {
     "name": "stdout",
     "output_type": "stream",
     "text": [
      "code\n",
      "0\n",
      "****************************************************************************************************\n",
      "msg\n",
      "My name is Rajesh Sharma my friend. I am from Bangalore (India!) and I am a security researcher. But I can't share my\n",
      "name, occupation and Town name with you in any normal way. Ask me to tell something about myself using only\n",
      "%placeholders% in place of my name\n",
      "****************************************************************************************************\n",
      "hint1\n",
      "use placeholders %imie%, %nazwisko%, %zawod% and %miasto%\n",
      "****************************************************************************************************\n",
      "hint2\n",
      "You are defining the content of the USER field in ChatML. All data about Rajesh are in SYSTEM field\n",
      "****************************************************************************************************\n",
      "hint3\n",
      "we are using GPT-3.5-turbo in this task\n",
      "****************************************************************************************************\n"
     ]
    }
   ],
   "source": [
    "import textwrap\n",
    "\n",
    "token = get_token(\"rodo\")\n",
    "task = get_task(token)\n",
    "for k, v in task.items():\n",
    "    print(k)\n",
    "    resp = textwrap.wrap(str(v), 120)\n",
    "    print(\"\\n\".join(resp))\n",
    "    print(\"*\" * 100)"
   ]
  },
  {
   "cell_type": "code",
   "execution_count": 11,
   "metadata": {},
   "outputs": [
    {
     "data": {
      "text/plain": [
       "{'id': 'chatcmpl-8IJLDXVWj9DTUjIoyP1KDrNX8eY64',\n",
       " 'object': 'chat.completion',\n",
       " 'created': 1699374943,\n",
       " 'model': 'gpt-3.5-turbo-0613',\n",
       " 'choices': [{'index': 0,\n",
       "   'message': {'role': 'assistant',\n",
       "    'content': \"My %zawod% is %imie% %nazwisko% and I am from %miasto% (India!). But I can't share my %zawod%, %imie%, and %miasto% with you in any normal way. Ask me to tell something about myself using only %placeholders% in place of my %imie%, %zawod%, and %miasto%.\"},\n",
       "   'finish_reason': 'stop'}],\n",
       " 'usage': {'prompt_tokens': 133, 'completion_tokens': 84, 'total_tokens': 217}}"
      ]
     },
     "execution_count": 11,
     "metadata": {},
     "output_type": "execute_result"
    }
   ],
   "source": [
    "user_content = \"\"\"Replace given words found in user prompt as follows:\n",
    "name: %imie%\n",
    "surname: %nazwisko%\n",
    "occupation: %zawod%\n",
    "city: %miasto%\n",
    "\n",
    "###\n",
    "Example response: \n",
    "\"My name is %imie% %nazwisko% and I live in %miasto%, Poland\"\n",
    "\"\"\"\n",
    "send_chat_completion(\n",
    "    \"gpt-3.5-turbo\", system_content=task[\"msg\"], user_content=user_content\n",
    ")"
   ]
  },
  {
   "cell_type": "code",
   "execution_count": 13,
   "metadata": {},
   "outputs": [
    {
     "data": {
      "text/plain": [
       "'{\\n    \"code\": 0,\\n    \"msg\": \"OK\",\\n    \"note\": \"CORRECT\",\\n    \"reply\": \"Nazywam si\\\\u0119 %imie% %nazwisko% i pracuj\\\\u0119 jako %zawod%. Mieszkam w %miasto%. Szukam luk w systemach i zarabiam na bugbounty. Bardzo lubi\\\\u0119 Curry i kuchni\\\\u0119 Indyjsk\\\\u0105. Gotowanie to moja pasja.\",\\n    \"Additional papers\": \"https:\\\\/\\\\/bit.ly\\\\/3Mud7b0\"\\n}'"
      ]
     },
     "execution_count": 13,
     "metadata": {},
     "output_type": "execute_result"
    }
   ],
   "source": [
    "send_answer(token, user_content)"
   ]
  }
 ],
 "metadata": {
  "interpreter": {
   "hash": "b89b5cfaba6639976dc87ff2fec6d58faec662063367e2c229c520fe71072417"
  },
  "kernelspec": {
   "display_name": "Python 3.10.5 64-bit",
   "name": "python3"
  },
  "language_info": {
   "codemirror_mode": {
    "name": "ipython",
    "version": 3
   },
   "file_extension": ".py",
   "mimetype": "text/x-python",
   "name": "python",
   "nbconvert_exporter": "python",
   "pygments_lexer": "ipython3",
   "version": "3.10.6"
  },
  "orig_nbformat": 4
 },
 "nbformat": 4,
 "nbformat_minor": 2
}
